{
 "cells": [
  {
   "cell_type": "markdown",
   "metadata": {},
   "source": [
    "# Introduction to Data Science\n",
    "## Homework 5"
   ]
  },
  {
   "cell_type": "markdown",
   "metadata": {},
   "source": [
    "Student Name: Yuhan Liu\n",
    "\n",
    "Student Netid: yl7576\n",
    "***"
   ]
  },
  {
   "cell_type": "markdown",
   "metadata": {},
   "source": [
    "### Part 1: Naive Bayes (5 Points)"
   ]
  },
  {
   "cell_type": "markdown",
   "metadata": {},
   "source": [
    "1\\. From your reading you know that the naive Bayes classifier works by calculating the conditional probabilities of each feature, $e_i$, occuring with each class $c$ and treating them independently. This results in the probability of a certain class occuring given a set of features, or a piece of evidence, $E$, as\n",
    "\n",
    "$$P(c \\mid E) = \\frac{p(e_1 \\mid c) \\cdot p(e_2 \\mid c) \\cdot \\cdot \\cdot p(e_k \\mid c) \\cdot p(c)}{p(E)}.$$\n",
    "\n",
    "The conditional probability of each piece of evidence occuring with a given class is given by\n",
    "\n",
    "$$P(e_i \\mid c) = \\frac{\\text{count}(e_i, c)}{\\text{count}(c)}.$$\n",
    "\n",
    "In the above equation $\\text{count}(e_i, c)$ is the number of documents in a given class that contain feature $e_i$ and $\\text{count}(c)$ is the number of documents that belong to class $c$. \n",
    "\n",
    "A common variation of the above is to use Laplace (sometimes called +1) smoothing. Recall the use of Laplace smoothing introduced toward the end of Chapter 3 in the section Probability Estimation. This is done in sklearn by setting `alpha=1` in the `BernoulliNB()` function (this is also the default behavior). The result of Laplace smoothing will slightly change the conditional probabilities,\n",
    "\n",
    "$$P(e_i \\mid c) = \\frac{\\text{count}(e_i, c) + 1}{\\text{count}(c) + 2}.$$\n",
    "\n",
    "In no more than **one paragraph**, describe why this is useful, and use the bias-variance tradeoff to justify its use. Try to think of a case when not using Laplace smoothing would result in \"bad\" models. Try to give an example. Be precise."
   ]
  },
  {
   "cell_type": "markdown",
   "metadata": {},
   "source": [
    "Answer here!\n",
    "\n",
    "Laplace smoothing solves the unknown word problem by assigning a small probability to the unknown word by adding a constant to both numerator and denominator of the conditional probability equation. For exmaple, assume that we have a movie review. The probability of word 'good' given words (w1, w2, ..., wn) is 0.8 and the probability of the word 'bad' given words (w1, w2, ..., wn) is 0.2. Then in the test data, there is a piece of review with almost the same content but containing an unknown word (a word not in the training vocabulary). In this way, the word count is 0 and the probability of 'good' and 'bad' given that word is 0. As the result, the classifier may not put the review into correct category even though it is almost the same as the good review we trained. Therefore, we can say that Laplace smoothing smoothes uncertainties existing in the test set. In terms of bias-variance tradeoff, Laplace smoothing helps the model reduce the variance in the overfitting case."
   ]
  },
  {
   "cell_type": "markdown",
   "metadata": {},
   "source": [
    "### Part 2: Text classification for sentiment analysis (20 Points)\n",
    "For this part of the assignment, we are going to use a data set of movie ratings from IMDB.com. The data consists of the text of a movie review and a target variable which tells us whether the reviewer had a positive feeling towards the movie (equivalent to rating the movie between 7 and 10) or a negative feeling (rating the movie between 1 and 4). Neutral reactions are not included in the data.\n",
    "\n",
    "The first column is the review text; the second is the text label 'P' for positive or 'N' for negative."
   ]
  },
  {
   "cell_type": "markdown",
   "metadata": {},
   "source": [
    "1 (1 Point) \\. Load the data into a pandas `DataFrame()`."
   ]
  },
  {
   "cell_type": "code",
   "execution_count": 2,
   "metadata": {},
   "outputs": [],
   "source": [
    "import pandas as pd\n"
   ]
  },
  {
   "cell_type": "code",
   "execution_count": 8,
   "metadata": {},
   "outputs": [
    {
     "data": {
      "text/html": [
       "<div>\n",
       "<style scoped>\n",
       "    .dataframe tbody tr th:only-of-type {\n",
       "        vertical-align: middle;\n",
       "    }\n",
       "\n",
       "    .dataframe tbody tr th {\n",
       "        vertical-align: top;\n",
       "    }\n",
       "\n",
       "    .dataframe thead th {\n",
       "        text-align: right;\n",
       "    }\n",
       "</style>\n",
       "<table border=\"1\" class=\"dataframe\">\n",
       "  <thead>\n",
       "    <tr style=\"text-align: right;\">\n",
       "      <th></th>\n",
       "      <th>Text</th>\n",
       "      <th>Class</th>\n",
       "    </tr>\n",
       "  </thead>\n",
       "  <tbody>\n",
       "    <tr>\n",
       "      <th>0</th>\n",
       "      <td>'One of the first of the best musicals Anchors...</td>\n",
       "      <td>P</td>\n",
       "    </tr>\n",
       "    <tr>\n",
       "      <th>1</th>\n",
       "      <td>'Visually disjointed and full of itself the di...</td>\n",
       "      <td>N</td>\n",
       "    </tr>\n",
       "    <tr>\n",
       "      <th>2</th>\n",
       "      <td>'These type of movies about young teenagers st...</td>\n",
       "      <td>P</td>\n",
       "    </tr>\n",
       "    <tr>\n",
       "      <th>3</th>\n",
       "      <td>'I would rather of had my eyes gouged out with...</td>\n",
       "      <td>N</td>\n",
       "    </tr>\n",
       "    <tr>\n",
       "      <th>4</th>\n",
       "      <td>'The title says it all. Tail Gunner Joe was a ...</td>\n",
       "      <td>N</td>\n",
       "    </tr>\n",
       "  </tbody>\n",
       "</table>\n",
       "</div>"
      ],
      "text/plain": [
       "                                                Text Class\n",
       "0  'One of the first of the best musicals Anchors...     P\n",
       "1  'Visually disjointed and full of itself the di...     N\n",
       "2  'These type of movies about young teenagers st...     P\n",
       "3  'I would rather of had my eyes gouged out with...     N\n",
       "4  'The title says it all. Tail Gunner Joe was a ...     N"
      ]
     },
     "execution_count": 8,
     "metadata": {},
     "output_type": "execute_result"
    }
   ],
   "source": [
    "df = pd.read_csv(\"imdb.csv\")\n",
    "df.head()\n"
   ]
  },
  {
   "cell_type": "markdown",
   "metadata": {},
   "source": [
    "2 (1 Point)\\. Code the target variable to be numeric: use the value `1` to represent 'P' and `0` to represent 'N'."
   ]
  },
  {
   "cell_type": "code",
   "execution_count": 9,
   "metadata": {},
   "outputs": [
    {
     "data": {
      "text/html": [
       "<div>\n",
       "<style scoped>\n",
       "    .dataframe tbody tr th:only-of-type {\n",
       "        vertical-align: middle;\n",
       "    }\n",
       "\n",
       "    .dataframe tbody tr th {\n",
       "        vertical-align: top;\n",
       "    }\n",
       "\n",
       "    .dataframe thead th {\n",
       "        text-align: right;\n",
       "    }\n",
       "</style>\n",
       "<table border=\"1\" class=\"dataframe\">\n",
       "  <thead>\n",
       "    <tr style=\"text-align: right;\">\n",
       "      <th></th>\n",
       "      <th>Text</th>\n",
       "      <th>Class</th>\n",
       "    </tr>\n",
       "  </thead>\n",
       "  <tbody>\n",
       "    <tr>\n",
       "      <th>0</th>\n",
       "      <td>'One of the first of the best musicals Anchors...</td>\n",
       "      <td>1</td>\n",
       "    </tr>\n",
       "    <tr>\n",
       "      <th>1</th>\n",
       "      <td>'Visually disjointed and full of itself the di...</td>\n",
       "      <td>0</td>\n",
       "    </tr>\n",
       "    <tr>\n",
       "      <th>2</th>\n",
       "      <td>'These type of movies about young teenagers st...</td>\n",
       "      <td>1</td>\n",
       "    </tr>\n",
       "    <tr>\n",
       "      <th>3</th>\n",
       "      <td>'I would rather of had my eyes gouged out with...</td>\n",
       "      <td>0</td>\n",
       "    </tr>\n",
       "    <tr>\n",
       "      <th>4</th>\n",
       "      <td>'The title says it all. Tail Gunner Joe was a ...</td>\n",
       "      <td>0</td>\n",
       "    </tr>\n",
       "  </tbody>\n",
       "</table>\n",
       "</div>"
      ],
      "text/plain": [
       "                                                Text  Class\n",
       "0  'One of the first of the best musicals Anchors...      1\n",
       "1  'Visually disjointed and full of itself the di...      0\n",
       "2  'These type of movies about young teenagers st...      1\n",
       "3  'I would rather of had my eyes gouged out with...      0\n",
       "4  'The title says it all. Tail Gunner Joe was a ...      0"
      ]
     },
     "execution_count": 9,
     "metadata": {},
     "output_type": "execute_result"
    }
   ],
   "source": [
    "df['Class'] = df.apply(lambda x: 1 if x['Class']=='P' else 0, axis=1)\n",
    "df.head()\n"
   ]
  },
  {
   "cell_type": "markdown",
   "metadata": {},
   "source": [
    "3 (2 Points)\\. Put all of the text into a data frame called `X` and the target variable in a data frame called `Y`. Make a train/test split where you give 75% of the data to training. Feel free to use any function from sklearn."
   ]
  },
  {
   "cell_type": "code",
   "execution_count": 16,
   "metadata": {},
   "outputs": [],
   "source": [
    "from sklearn.model_selection import train_test_split\n",
    "X = df.drop('Class', axis = 1)\n",
    "Y = df.drop('Text', axis = 1)\n",
    "X_train, X_test, Y_train, Y_test = train_test_split(X, Y, test_size=0.25, random_state=42)"
   ]
  },
  {
   "cell_type": "markdown",
   "metadata": {},
   "source": [
    "4 (5 Points)\\. Create a binary `CountVectorizer()` and a binary `TfidfVectorizer()`. Use the original single words as well as bigrams (in the same model). Also, use an \"english\" stop word list. Fit these to the training data to extract a vocabulary and then transform both the train and test data. Hint - look at the API documentation for both vectorizers to see what we mean by \"binary.\""
   ]
  },
  {
   "cell_type": "code",
   "execution_count": 24,
   "metadata": {},
   "outputs": [],
   "source": [
    "from sklearn.feature_extraction.text import CountVectorizer\n",
    "count_vectorizer = CountVectorizer(stop_words=\"english\",binary=True,ngram_range=(1,2))\n",
    "count_vectorizer.fit(X_train['Text'])\n",
    "X_train_count = count_vectorizer.transform(X_train['Text'])\n",
    "X_test_count = count_vectorizer.transform(X_test['Text'])"
   ]
  },
  {
   "cell_type": "code",
   "execution_count": 25,
   "metadata": {},
   "outputs": [],
   "source": [
    "from sklearn.feature_extraction.text import TfidfVectorizer\n",
    "tfidf_vectorizer = TfidfVectorizer(stop_words=\"english\",binary=True,ngram_range=(1,2))\n",
    "tfidf_vectorizer.fit(X_train['Text'])\n",
    "X_train_tfidf = tfidf_vectorizer.transform(X_train['Text'])\n",
    "X_test_tfidf = tfidf_vectorizer.transform(X_test['Text'])\n"
   ]
  },
  {
   "cell_type": "markdown",
   "metadata": {},
   "source": [
    "5 (6 Points)\\. Create `LogisticRegression()` and `BernoulliNB()` models. For all settings, keep the default values. In a single plot, show the AUC curve for both classifiers and both vectorizers defined above. In the legend, include the area under the ROC curve (AUC). Do not forget to label your axes. Your final plot will be a single window with 4 curves.\n",
    "\n",
    "Which model do you think does a better job? Why? Explain in no more than a paragraph.\n",
    "\n",
    "Extra credit (2 points): Do any of the options perform identically? If so, can you explain why?"
   ]
  },
  {
   "cell_type": "code",
   "execution_count": 20,
   "metadata": {},
   "outputs": [],
   "source": [
    "# Run this so your plots show properly\n",
    "import matplotlib.pyplot as plt\n",
    "%matplotlib inline\n",
    "plt.rcParams['figure.figsize'] = 12, 12\n"
   ]
  },
  {
   "cell_type": "code",
   "execution_count": 30,
   "metadata": {},
   "outputs": [
    {
     "name": "stderr",
     "output_type": "stream",
     "text": [
      "/Users/yuhanliu/opt/anaconda3/lib/python3.8/site-packages/sklearn/utils/validation.py:73: DataConversionWarning: A column-vector y was passed when a 1d array was expected. Please change the shape of y to (n_samples, ), for example using ravel().\n",
      "  return f(**kwargs)\n",
      "/Users/yuhanliu/opt/anaconda3/lib/python3.8/site-packages/sklearn/utils/validation.py:73: DataConversionWarning: A column-vector y was passed when a 1d array was expected. Please change the shape of y to (n_samples, ), for example using ravel().\n",
      "  return f(**kwargs)\n",
      "/Users/yuhanliu/opt/anaconda3/lib/python3.8/site-packages/sklearn/utils/validation.py:73: DataConversionWarning: A column-vector y was passed when a 1d array was expected. Please change the shape of y to (n_samples, ), for example using ravel().\n",
      "  return f(**kwargs)\n",
      "/Users/yuhanliu/opt/anaconda3/lib/python3.8/site-packages/sklearn/utils/validation.py:73: DataConversionWarning: A column-vector y was passed when a 1d array was expected. Please change the shape of y to (n_samples, ), for example using ravel().\n",
      "  return f(**kwargs)\n"
     ]
    }
   ],
   "source": [
    "from sklearn.linear_model import LogisticRegression\n",
    "from sklearn.naive_bayes import BernoulliNB\n",
    "from sklearn import metrics\n",
    "\n",
    "# Code here\n",
    "lr_count = LogisticRegression()\n",
    "lr_count.fit(X_train_count, Y_train)\n",
    "fpr_lr_count, tpr_lr_count, thresholds_lr_count = metrics.roc_curve(Y_test, lr_count.predict_proba(X_test_count)[:,1])\n",
    "lr_count_auc = metrics.auc(fpr_lr_count, tpr_lr_count)\n",
    "\n",
    "\n",
    "ber_count = BernoulliNB()\n",
    "ber_count.fit(X_train_count, Y_train)\n",
    "fpr_ber_count, tpr_ber_count, thresholds_ber_count = metrics.roc_curve(Y_test, ber_count.predict_proba(X_test_count)[:,1])\n",
    "ber_count_auc = metrics.auc(fpr_ber_count, tpr_ber_count)\n",
    "\n",
    "lr_tfidf = LogisticRegression()\n",
    "lr_tfidf.fit(X_train_tfidf, Y_train)\n",
    "fpr_lr_tfidf, tpr_lr_tfidf, thresholds_lr_tfidf = metrics.roc_curve(Y_test, lr_tfidf.predict_proba(X_test_tfidf)[:,1])\n",
    "lr_tfidf_auc = metrics.auc(fpr_lr_tfidf, tpr_lr_tfidf)\n",
    "\n",
    "ber_tfidf = BernoulliNB()\n",
    "ber_tfidf.fit(X_train_tfidf, Y_train)\n",
    "fpr_ber_tfidf, tpr_ber_tfidf, thresholds_ber_tfidf = metrics.roc_curve(Y_test, ber_tfidf.predict_proba(X_test_tfidf)[:,1])\n",
    "ber_tfidf_auc = metrics.auc(fpr_ber_tfidf, tpr_ber_tfidf)"
   ]
  },
  {
   "cell_type": "code",
   "execution_count": 35,
   "metadata": {},
   "outputs": [
    {
     "data": {
      "text/plain": [
       "<matplotlib.legend.Legend at 0x7fb1d10ec220>"
      ]
     },
     "execution_count": 35,
     "metadata": {},
     "output_type": "execute_result"
    },
    {
     "data": {
      "image/png": "[encoded data removed]",
      "text/plain": [
       "<Figure size 864x864 with 1 Axes>"
      ]
     },
     "metadata": {
      "needs_background": "light"
     },
     "output_type": "display_data"
    }
   ],
   "source": [
    "plt.plot(fpr_lr_count,tpr_lr_count,label=\"LR on count, auc = {0:.4f}\".format(lr_count_auc,2))\n",
    "plt.plot(fpr_lr_tfidf,tpr_lr_tfidf,label=\"LR on tfidf, auc = {0:.4f}\".format(lr_tfidf_auc))\n",
    "plt.plot(fpr_ber_count,tpr_ber_count,label=\"BernoulliNB on count, auc = {0:.4f}\".format(ber_count_auc))\n",
    "plt.plot(fpr_ber_tfidf,tpr_ber_tfidf,label=\"BernoulliNB on tfidf, auc = {0:.4f}\".format(ber_tfidf_auc))\n",
    "plt.legend(loc=\"lower right\")"
   ]
  },
  {
   "cell_type": "markdown",
   "metadata": {},
   "source": [
    "Explanation here!\n",
    "\n",
    "Q1: Which model do you think does a better job? Why?\n",
    "\n",
    "Logistic regression on tfidf works the best because it has the highest auc score among four models. BernoulliNB does not work as well as logistic regression because it assumes words are independent to each other, but the fact is that the position of words highly depend on context and word sequence. Therefore, Logistic works better. Also, for the logistic regression model, TFIDFVectorizer works better than CountVectorizer because CountVectorizer only simply counts the word frequency but TFIDFVectorizer counts the inverse document frequency, which adjusts for the fact that some words appear more frequently in general. Therefore, logistic regression on tfidf is the best model.\n",
    "\n",
    "Extra Credit Question:\n",
    "\n",
    "Naive Bayes model on count and Naive Bayes model on tfidf perform identically and they are the worst two models among the four. I think that is because Naive Bayes model is not as good as logistic so it does not make any differences on CountVectorizer or TFIDFVectorizer. "
   ]
  },
  {
   "cell_type": "markdown",
   "metadata": {
    "collapsed": true
   },
   "source": [
    "5\\. Use the model from question 4 that you think did the best job and predict the rating of the test data. Find 5 examples were labeled positive, but were incorrectly classified as negative. Print out the reviews below and include an explanation as to why you think it may have been incorrectly classified. You can pick any 5. They do not have to be at random."
   ]
  },
  {
   "cell_type": "code",
   "execution_count": 41,
   "metadata": {},
   "outputs": [
    {
     "name": "stderr",
     "output_type": "stream",
     "text": [
      "/Users/yuhanliu/opt/anaconda3/lib/python3.8/site-packages/sklearn/utils/validation.py:73: DataConversionWarning: A column-vector y was passed when a 1d array was expected. Please change the shape of y to (n_samples, ), for example using ravel().\n",
      "  return f(**kwargs)\n"
     ]
    },
    {
     "name": "stdout",
     "output_type": "stream",
     "text": [
      "review: \n",
      "\n",
      "'Although its not as creepy as its cult classic predecessor (ZOMBI 2) I actually like this one better. This is because of its faster pace better settings and cool 80s soundtrack. Its loaded with action and has sweet gore effects by Lucio Fulci. The zombies dont quite look as nasty as in ZOMBI 2 but they still look good. It was made pretty well but it definitely has its share of cheesiness; for instance some zombies move really slow while others are as quick as ninjas. some are braindead while others say funny lines but who expects consistency when it comes to Italian horror? Theres even a flying zombie head! How rad is that? Definitely a must see for gorehounds and zombie fans. itd probably satisfy most fans of action movies as well. Also check out Zombi 4.'\n",
      "\n",
      "review: \n",
      "\n",
      "'I wasnt expecting much and to be honest I didnt like this film the first time around but watching it again and I realised that its kinda cool. Sure its a one joke film but its a funny gag.  Someone posted that it could be better written and it could be. I think this film had the potential to be a over-the-top My Cousin Vinny. But with a horror host instead of a lawyer. Sadly its a wasted opportunity. With just a bit more writing it could be a classic. The kids are underused theres no reason why they should latch on to Elvira. Apart from the obvious reasons. It would have been great to see their relationship flourish. I know its a comedy but its little differences that separate the good films from the brilliant. Elvira herself is always fun and engaging. Not to mention flirty. Every time she smiles you will too. Its hard to knock a film when the main character is so charming. And it really is her charm dont let her looks fool you into thinking that shes some sort of tart. Well she is. But shes a nice one. The sort of person youd let look after your kids. Wouldnt let her cook for them though... Id recommend giving it a go.  Just dont expect too much. Shes more than just a great set of boobs. Shes also an incredible pair of legs.'\n",
      "\n",
      "review: \n",
      "\n",
      "'Yes its over the top yes its a bit clichéd and yes Constance Marie is a total babe and worthy of seeing again and again! The jokes and gags might get old and repetitive after a while but the shows still fun to watch. Since its a family show the humour is toned down and the writers have incorporated family values and ideals in between the gags. George Lopez is funny. Dont take him seriously and the shows a winner. Im sure he didnt intend his character to be serious or a paragon of virtue. His outbursts and shouts of glee are hilarious... I do have to say that the one big dark bitter spot is Benny. I hate the character...so much so that anytime shes on for more than 30 seconds I mute the TV just so I dont have to hear her. There is nothing funny about her dialogue or her jokes. As a mother she has to be the worst out there and I am just shocked and surprised that George as the character would stand by such a deplorable person for so long. Even so anytime I get ticked off at seeing Benny I think to myself: seeing her is a lot better than having to watch the Bill Engvall Show. Now theres a bad sitcom...'\n",
      "\n",
      "review: \n",
      "\n",
      "'definitely needed a little work in season 2. Such as the Virus between Max and Logan and Ames White along with his ancient super cult. During season two however the only thing that kept me watching was to see if Max and Logan would ever get rid of the nasty virus infecting Max. Very good drama in season two. But of course like all TV shows if theres something a little wrong with it the broadcasting company takes it off the air. I was seriously hoping for a third and final season. Season 2 leaves you hanging unless you read the books by Max Allan Collins then you will know what happens. Dark Angel should be put back on the air for one more season even though it might cost a lot just to get all the original actors again. since Jessica Albas carrier sky rocketed after the show. If that would be the case then there should be a movie to complete it. just like the show Firefly which of course FOX canceled as well.'\n",
      "\n",
      "review: \n",
      "\n",
      "'THE DEVILS PLAYTHING is my second attempt at a Joseph Sarno production - and although I will say it is far more enjoyable than the painfully dull and unerotic Swedish WILDCATS it is still a little slow and un-explicit for my taste. This one centers around a group of vampire girls who live in a castle that want to resurrect their previously murdered leader. In order to do so the girls have to dance around naked and kiss each other and chant weird stuff - and of course drink some blood too. When a doctor and her brothers car breaks down and they have to stop at the castle for lodging - they provide the ideal bloodbank for the horny vampires...but they may not be as helpless as they seem... THE DEVILS PLAYTHING is a pretty good example of early 70s exploit sleaze. Lots of nudity - including some full-frontal some sleazy undertones - including incest and of course lesbo-bloodsucking...but these scenes are still pretty tame by todays standards. Some pretty hot women in this one would have benefited from some more explicit sex but I guess ya cant have it all. Also would have benefited from some heavier violence/gore being that it IS a vampire film but I think the purpose of THE DEVILS PLAYTHING was more to showcase skin not blood. Still a little slow - and the acting for the most part is absolutely wooden - but thats to be expected from something from this era and of this budget. Worth a look to exploit fans - others may find it a little too dull for their liking. 7/10'\n",
      "\n"
     ]
    }
   ],
   "source": [
    "# Code here to display 5 incorrect reviews.\n",
    "best_clf = LogisticRegression()\n",
    "best_clf.fit(X_train_tfidf, Y_train)\n",
    "preds = best_clf.predict(X_test_tfidf)\n",
    "ct =0\n",
    "for i in range(len(preds)):\n",
    "    if (ct >= 5): \n",
    "        break\n",
    "    if (Y_test['Class'].iloc[i] == 1) and (preds[i] != 1):\n",
    "        ct += 1\n",
    "        print('review: \\n')\n",
    "        print(X_test['Text'].iloc[i]+'\\n')\n"
   ]
  },
  {
   "cell_type": "markdown",
   "metadata": {},
   "source": [
    "Explanation here!\n",
    "\n",
    "These are positive reviews but being uncorrectly classified as negative. This is because in these reviews, there are negative words that confuse the classifier, such as 'fool', 'tart', 'clichéd' and 'painfully dull', but the classifier does not capture transitional words such as‘but' and 'however', which make the review become positive. That is why positive reviews are labeled as negative."
   ]
  }
 ],
 "metadata": {
  "anaconda-cloud": {},
  "kernelspec": {
   "display_name": "Python 3",
   "language": "python",
   "name": "python3"
  },
  "language_info": {
   "codemirror_mode": {
    "name": "ipython",
    "version": 3
   },
   "file_extension": ".py",
   "mimetype": "text/x-python",
   "name": "python",
   "nbconvert_exporter": "python",
   "pygments_lexer": "ipython3",
   "version": "3.8.3"
  }
 },
 "nbformat": 4,
 "nbformat_minor": 1
}
